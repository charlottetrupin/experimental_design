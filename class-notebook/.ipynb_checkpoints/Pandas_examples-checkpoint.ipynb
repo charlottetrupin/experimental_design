{
 "cells": [
  {
   "cell_type": "code",
   "execution_count": 1,
   "id": "c0669f99",
   "metadata": {},
   "outputs": [],
   "source": [
    "import pandas as pd # for manipulating data frames"
   ]
  },
  {
   "cell_type": "code",
   "execution_count": 2,
   "id": "bc76cd69",
   "metadata": {},
   "outputs": [
    {
     "data": {
      "text/html": [
       "<div>\n",
       "<style scoped>\n",
       "    .dataframe tbody tr th:only-of-type {\n",
       "        vertical-align: middle;\n",
       "    }\n",
       "\n",
       "    .dataframe tbody tr th {\n",
       "        vertical-align: top;\n",
       "    }\n",
       "\n",
       "    .dataframe thead th {\n",
       "        text-align: right;\n",
       "    }\n",
       "</style>\n",
       "<table border=\"1\" class=\"dataframe\">\n",
       "  <thead>\n",
       "    <tr style=\"text-align: right;\">\n",
       "      <th></th>\n",
       "      <th>Participant</th>\n",
       "      <th>Block</th>\n",
       "      <th>Trial</th>\n",
       "      <th>Lens</th>\n",
       "      <th>Magnification</th>\n",
       "      <th>ID</th>\n",
       "      <th>PointingTime</th>\n",
       "    </tr>\n",
       "  </thead>\n",
       "  <tbody>\n",
       "    <tr>\n",
       "      <th>0</th>\n",
       "      <td>1</td>\n",
       "      <td>4</td>\n",
       "      <td>0</td>\n",
       "      <td>FL</td>\n",
       "      <td>6</td>\n",
       "      <td>6.003555</td>\n",
       "      <td>2297</td>\n",
       "    </tr>\n",
       "    <tr>\n",
       "      <th>1</th>\n",
       "      <td>1</td>\n",
       "      <td>4</td>\n",
       "      <td>0</td>\n",
       "      <td>FL</td>\n",
       "      <td>6</td>\n",
       "      <td>6.003555</td>\n",
       "      <td>1485</td>\n",
       "    </tr>\n",
       "    <tr>\n",
       "      <th>2</th>\n",
       "      <td>1</td>\n",
       "      <td>4</td>\n",
       "      <td>0</td>\n",
       "      <td>FL</td>\n",
       "      <td>6</td>\n",
       "      <td>6.003555</td>\n",
       "      <td>2000</td>\n",
       "    </tr>\n",
       "    <tr>\n",
       "      <th>3</th>\n",
       "      <td>1</td>\n",
       "      <td>4</td>\n",
       "      <td>0</td>\n",
       "      <td>FL</td>\n",
       "      <td>6</td>\n",
       "      <td>6.003555</td>\n",
       "      <td>1843</td>\n",
       "    </tr>\n",
       "    <tr>\n",
       "      <th>4</th>\n",
       "      <td>1</td>\n",
       "      <td>4</td>\n",
       "      <td>0</td>\n",
       "      <td>FL</td>\n",
       "      <td>6</td>\n",
       "      <td>6.003555</td>\n",
       "      <td>1813</td>\n",
       "    </tr>\n",
       "    <tr>\n",
       "      <th>...</th>\n",
       "      <td>...</td>\n",
       "      <td>...</td>\n",
       "      <td>...</td>\n",
       "      <td>...</td>\n",
       "      <td>...</td>\n",
       "      <td>...</td>\n",
       "      <td>...</td>\n",
       "    </tr>\n",
       "    <tr>\n",
       "      <th>11995</th>\n",
       "      <td>10</td>\n",
       "      <td>2</td>\n",
       "      <td>9</td>\n",
       "      <td>SCF</td>\n",
       "      <td>6</td>\n",
       "      <td>6.003555</td>\n",
       "      <td>2313</td>\n",
       "    </tr>\n",
       "    <tr>\n",
       "      <th>11996</th>\n",
       "      <td>10</td>\n",
       "      <td>2</td>\n",
       "      <td>9</td>\n",
       "      <td>SCF</td>\n",
       "      <td>6</td>\n",
       "      <td>6.003555</td>\n",
       "      <td>2453</td>\n",
       "    </tr>\n",
       "    <tr>\n",
       "      <th>11997</th>\n",
       "      <td>10</td>\n",
       "      <td>2</td>\n",
       "      <td>9</td>\n",
       "      <td>SCF</td>\n",
       "      <td>6</td>\n",
       "      <td>6.003555</td>\n",
       "      <td>2187</td>\n",
       "    </tr>\n",
       "    <tr>\n",
       "      <th>11998</th>\n",
       "      <td>10</td>\n",
       "      <td>2</td>\n",
       "      <td>9</td>\n",
       "      <td>SCF</td>\n",
       "      <td>6</td>\n",
       "      <td>6.003555</td>\n",
       "      <td>2875</td>\n",
       "    </tr>\n",
       "    <tr>\n",
       "      <th>11999</th>\n",
       "      <td>10</td>\n",
       "      <td>2</td>\n",
       "      <td>9</td>\n",
       "      <td>SCF</td>\n",
       "      <td>6</td>\n",
       "      <td>6.003555</td>\n",
       "      <td>2688</td>\n",
       "    </tr>\n",
       "  </tbody>\n",
       "</table>\n",
       "<p>12000 rows × 7 columns</p>\n",
       "</div>"
      ],
      "text/plain": [
       "       Participant  Block  Trial Lens  Magnification        ID  PointingTime\n",
       "0                1      4      0   FL              6  6.003555          2297\n",
       "1                1      4      0   FL              6  6.003555          1485\n",
       "2                1      4      0   FL              6  6.003555          2000\n",
       "3                1      4      0   FL              6  6.003555          1843\n",
       "4                1      4      0   FL              6  6.003555          1813\n",
       "...            ...    ...    ...  ...            ...       ...           ...\n",
       "11995           10      2      9  SCF              6  6.003555          2313\n",
       "11996           10      2      9  SCF              6  6.003555          2453\n",
       "11997           10      2      9  SCF              6  6.003555          2187\n",
       "11998           10      2      9  SCF              6  6.003555          2875\n",
       "11999           10      2      9  SCF              6  6.003555          2688\n",
       "\n",
       "[12000 rows x 7 columns]"
      ]
     },
     "execution_count": 2,
     "metadata": {},
     "output_type": "execute_result"
    }
   ],
   "source": [
    "data = pd.read_csv('lens_experiment/lens_experiment.csv', sep=';')\n",
    "data"
   ]
  },
  {
   "cell_type": "code",
   "execution_count": 4,
   "id": "89925936",
   "metadata": {},
   "outputs": [
    {
     "data": {
      "text/plain": [
       "0         1\n",
       "1         1\n",
       "2         1\n",
       "3         1\n",
       "4         1\n",
       "         ..\n",
       "11995    10\n",
       "11996    10\n",
       "11997    10\n",
       "11998    10\n",
       "11999    10\n",
       "Name: Participant, Length: 12000, dtype: int64"
      ]
     },
     "execution_count": 4,
     "metadata": {},
     "output_type": "execute_result"
    }
   ],
   "source": [
    "data['Participant']"
   ]
  },
  {
   "cell_type": "code",
   "execution_count": 6,
   "id": "5c7e4eb0",
   "metadata": {},
   "outputs": [
    {
     "data": {
      "text/plain": [
       "Participant             1\n",
       "Block                   4\n",
       "Trial                   0\n",
       "Lens                   FL\n",
       "Magnification           6\n",
       "ID               6.003555\n",
       "PointingTime         2000\n",
       "Name: 2, dtype: object"
      ]
     },
     "execution_count": 6,
     "metadata": {},
     "output_type": "execute_result"
    }
   ],
   "source": [
    "data.iloc[2]"
   ]
  },
  {
   "cell_type": "code",
   "execution_count": 5,
   "id": "d188d4cb",
   "metadata": {},
   "outputs": [
    {
     "data": {
      "text/plain": [
       "Participant        int64\n",
       "Block              int64\n",
       "Trial              int64\n",
       "Lens              object\n",
       "Magnification      int64\n",
       "ID               float64\n",
       "PointingTime       int64\n",
       "dtype: object"
      ]
     },
     "execution_count": 5,
     "metadata": {},
     "output_type": "execute_result"
    }
   ],
   "source": [
    "data.dtypes"
   ]
  },
  {
   "cell_type": "code",
   "execution_count": null,
   "id": "3033a2b5",
   "metadata": {},
   "outputs": [],
   "source": []
  }
 ],
 "metadata": {
  "kernelspec": {
   "display_name": "Python 3 (ipykernel)",
   "language": "python",
   "name": "python3"
  },
  "language_info": {
   "codemirror_mode": {
    "name": "ipython",
    "version": 3
   },
   "file_extension": ".py",
   "mimetype": "text/x-python",
   "name": "python",
   "nbconvert_exporter": "python",
   "pygments_lexer": "ipython3",
   "version": "3.9.13"
  },
  "vscode": {
   "interpreter": {
    "hash": "40d3a090f54c6569ab1632332b64b2c03c39dcf918b08424e98f38b5ae0af88f"
   }
  }
 },
 "nbformat": 4,
 "nbformat_minor": 5
}
